{
 "cells": [
  {
   "cell_type": "markdown",
   "metadata": {},
   "source": [
    "# Тестирование модели из MLflow\n",
    "\n",
    "В этом ноутбуке мы:\n",
    "1. Загрузим модель из MLflow артефактов\n",
    "2. Сделаем предсказания на новых данных  \n",
    "3. Проверим метрики\n",
    "4. Визуализируем результаты\n"
   ]
  },
  {
   "cell_type": "code",
   "execution_count": 1,
   "metadata": {},
   "outputs": [
    {
     "name": "stdout",
     "output_type": "stream",
     "text": [
      "Библиотеки загружены!\n"
     ]
    }
   ],
   "source": [
    "import mlflow\n",
    "import mlflow.sklearn\n",
    "import pandas as pd\n",
    "import numpy as np\n",
    "from sklearn.datasets import load_iris\n",
    "from sklearn.model_selection import train_test_split\n",
    "from sklearn.metrics import accuracy_score, f1_score, classification_report\n",
    "import matplotlib.pyplot as plt\n",
    "import seaborn as sns\n",
    "\n",
    "# Настройка MLflow\n",
    "mlflow.set_tracking_uri(\"file:../mlruns\")\n",
    "\n",
    "print(\"Библиотеки загружены!\")\n"
   ]
  },
  {
   "cell_type": "markdown",
   "metadata": {},
   "source": [
    "## 1. Поиск последнего эксперимента\n"
   ]
  },
  {
   "cell_type": "code",
   "execution_count": 2,
   "metadata": {},
   "outputs": [
    {
     "name": "stdout",
     "output_type": "stream",
     "text": [
      "Найден эксперимент: lesson1-baseline\n",
      "ID: 722000710378022321\n",
      "Последний run: 3f10efab5b1b46178142bf35e83e6d5d\n",
      "Accuracy: 0.9667\n",
      "F1-macro: 0.9666\n"
     ]
    }
   ],
   "source": [
    "# Получаем информацию об экспериментах\n",
    "experiment = mlflow.get_experiment_by_name(\"lesson1-baseline\")\n",
    "if experiment:\n",
    "    print(f\"Найден эксперимент: {experiment.name}\")\n",
    "    print(f\"ID: {experiment.experiment_id}\")\n",
    "    \n",
    "    # Получаем последний run\n",
    "    runs = mlflow.search_runs(\n",
    "        experiment_ids=[experiment.experiment_id],\n",
    "        order_by=[\"start_time desc\"],\n",
    "        max_results=1\n",
    "    )\n",
    "    \n",
    "    if not runs.empty:\n",
    "        latest_run = runs.iloc[0]\n",
    "        run_id = latest_run[\"run_id\"]\n",
    "        print(f\"Последний run: {run_id}\")\n",
    "        print(f\"Accuracy: {latest_run['metrics.accuracy']:.4f}\")\n",
    "        print(f\"F1-macro: {latest_run['metrics.f1_macro']:.4f}\")\n",
    "    else:\n",
    "        print(\"Runs не найдены!\")\n",
    "        run_id = None  # Ensure run_id is defined even if no runs\n",
    "else:\n",
    "    print(\"Эксперимент не найден! Запустите сначала обучение.\")\n",
    "    run_id = None  # Ensure run_id is defined even if no experiment\n"
   ]
  },
  {
   "cell_type": "markdown",
   "metadata": {},
   "source": [
    "## 2. Загрузка модели из MLflow\n"
   ]
  },
  {
   "cell_type": "code",
   "execution_count": 3,
   "metadata": {},
   "outputs": [
    {
     "name": "stdout",
     "output_type": "stream",
     "text": [
      "Модель загружена из: runs:/3f10efab5b1b46178142bf35e83e6d5d/model\n",
      "Тип модели: LogisticRegression\n",
      "Параметры модели: {'C': 1.0, 'class_weight': None, 'dual': False, 'fit_intercept': True, 'intercept_scaling': 1, 'l1_ratio': None, 'max_iter': 200, 'multi_class': 'deprecated', 'n_jobs': None, 'penalty': 'l2', 'random_state': 42, 'solver': 'lbfgs', 'tol': 0.0001, 'verbose': 0, 'warm_start': False}\n"
     ]
    }
   ],
   "source": [
    "# Загружаем модель из артефактов MLflow\n",
    "if run_id:\n",
    "    model_uri = f\"runs:/{run_id}/model\"\n",
    "    loaded_model = mlflow.sklearn.load_model(model_uri)\n",
    "\n",
    "    print(f\"Модель загружена из: {model_uri}\")\n",
    "    print(f\"Тип модели: {type(loaded_model).__name__}\")\n",
    "    print(f\"Параметры модели: {loaded_model.get_params()}\")\n",
    "else:\n",
    "    print(\"Невозможно загрузить модель: run_id не определен\")\n"
   ]
  },
  {
   "cell_type": "markdown",
   "metadata": {},
   "source": [
    "## 3. Тестирование на данных\n"
   ]
  },
  {
   "cell_type": "code",
   "execution_count": 5,
   "metadata": {},
   "outputs": [
    {
     "name": "stdout",
     "output_type": "stream",
     "text": [
      "Accuracy: 1.000000\n",
      "F1-macro: 1.000000\n",
      "\\nДетальный отчет:\n",
      "              precision    recall  f1-score   support\n",
      "\n",
      "      setosa       1.00      1.00      1.00        10\n",
      "  versicolor       1.00      1.00      1.00        10\n",
      "   virginica       1.00      1.00      1.00        10\n",
      "\n",
      "    accuracy                           1.00        30\n",
      "   macro avg       1.00      1.00      1.00        30\n",
      "weighted avg       1.00      1.00      1.00        30\n",
      "\n"
     ]
    }
   ],
   "source": [
    "# Загружаем те же данные для тестирования\n",
    "if run_id and 'loaded_model' in locals():\n",
    "    iris = load_iris()\n",
    "    X, y = iris.data, iris.target\n",
    "\n",
    "    # Используем тот же split что и в обучении (seed=42)\n",
    "    X_train, X_test, y_train, y_test = train_test_split(\n",
    "        X, y, test_size=0.2, random_state=12, stratify=y\n",
    "    )\n",
    "\n",
    "    # Делаем предсказания\n",
    "    y_pred = loaded_model.predict(X_test)\n",
    "\n",
    "    # Вычисляем метрики\n",
    "    accuracy = accuracy_score(y_test, y_pred)\n",
    "    f1 = f1_score(y_test, y_pred, average='macro')\n",
    "\n",
    "    print(f\"Accuracy: {accuracy:.6f}\")\n",
    "    print(f\"F1-macro: {f1:.6f}\")\n",
    "    print(f\"\\\\nДетальный отчет:\")\n",
    "    print(classification_report(y_test, y_pred, target_names=iris.target_names))\n",
    "else:\n",
    "    print(\"Невозможно провести тестирование: модель не загружена\")\n"
   ]
  },
  {
   "cell_type": "markdown",
   "metadata": {},
   "source": [
    "## Выводы\n",
    "\n",
    "**Что мы проверили:**\n",
    "- Модель успешно загружается из MLflow артефактов\n",
    "- Результаты полностью воспроизводимы (детерминизм)\n",
    "- Модель работает на тестовых данных\n",
    "- Метрики соответствуют ожиданиям\n",
    "\n",
    "**Преимущества MLflow подхода:**\n",
    "- Модель хранится с метаданными\n",
    "- Легко загружать и использовать  \n",
    "- Версионирование автоматическое\n",
    "- Воспроизводимые результаты\n",
    "\n",
    "**Сравнение с простым подходом:**\n",
    "Попробуйте запустить `basic_train.py` несколько раз и сравните результаты!\n"
   ]
  }
 ],
 "metadata": {
  "kernelspec": {
   "display_name": "Python 3 (ipykernel)",
   "language": "python",
   "name": "python3"
  },
  "language_info": {
   "codemirror_mode": {
    "name": "ipython",
    "version": 3
   },
   "file_extension": ".py",
   "mimetype": "text/x-python",
   "name": "python",
   "nbconvert_exporter": "python",
   "pygments_lexer": "ipython3",
   "version": "3.11.9"
  }
 },
 "nbformat": 4,
 "nbformat_minor": 4
}
